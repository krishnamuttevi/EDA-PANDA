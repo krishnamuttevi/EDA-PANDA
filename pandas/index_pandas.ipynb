{
 "cells": [
  {
   "cell_type": "code",
   "execution_count": 2,
   "id": "86564020-d753-45a0-8a3d-07581344864c",
   "metadata": {},
   "outputs": [],
   "source": [
    "import pandas as pd"
   ]
  },
  {
   "cell_type": "code",
   "execution_count": 3,
   "id": "ac44e247-014e-477b-b353-8e0005b18bf0",
   "metadata": {},
   "outputs": [],
   "source": [
    "dict={'name':['Hari','Narayana','Vasudeva','Madhava'],'yuga':['Sarva','Sarva','Dwapara','Dwapara']}"
   ]
  },
  {
   "cell_type": "code",
   "execution_count": 4,
   "id": "cce69c3c-a3fa-4bf8-8994-6a17de4b3e4a",
   "metadata": {},
   "outputs": [
    {
     "data": {
      "text/html": [
       "<div>\n",
       "<style scoped>\n",
       "    .dataframe tbody tr th:only-of-type {\n",
       "        vertical-align: middle;\n",
       "    }\n",
       "\n",
       "    .dataframe tbody tr th {\n",
       "        vertical-align: top;\n",
       "    }\n",
       "\n",
       "    .dataframe thead th {\n",
       "        text-align: right;\n",
       "    }\n",
       "</style>\n",
       "<table border=\"1\" class=\"dataframe\">\n",
       "  <thead>\n",
       "    <tr style=\"text-align: right;\">\n",
       "      <th></th>\n",
       "      <th>name</th>\n",
       "      <th>yuga</th>\n",
       "    </tr>\n",
       "  </thead>\n",
       "  <tbody>\n",
       "    <tr>\n",
       "      <th>0</th>\n",
       "      <td>Hari</td>\n",
       "      <td>Sarva</td>\n",
       "    </tr>\n",
       "    <tr>\n",
       "      <th>1</th>\n",
       "      <td>Narayana</td>\n",
       "      <td>Sarva</td>\n",
       "    </tr>\n",
       "    <tr>\n",
       "      <th>2</th>\n",
       "      <td>Vasudeva</td>\n",
       "      <td>Dwapara</td>\n",
       "    </tr>\n",
       "    <tr>\n",
       "      <th>3</th>\n",
       "      <td>Madhava</td>\n",
       "      <td>Dwapara</td>\n",
       "    </tr>\n",
       "  </tbody>\n",
       "</table>\n",
       "</div>"
      ],
      "text/plain": [
       "       name     yuga\n",
       "0      Hari    Sarva\n",
       "1  Narayana    Sarva\n",
       "2  Vasudeva  Dwapara\n",
       "3   Madhava  Dwapara"
      ]
     },
     "execution_count": 4,
     "metadata": {},
     "output_type": "execute_result"
    }
   ],
   "source": [
    "df=pd.DataFrame(dict)\n",
    "df"
   ]
  },
  {
   "cell_type": "markdown",
   "id": "3ec09af7-7c96-458c-a884-37a7d369e469",
   "metadata": {},
   "source": [
    "# index functions"
   ]
  },
  {
   "cell_type": "code",
   "execution_count": 6,
   "id": "6b86e43c-ebe0-416e-9552-e012e22e10c2",
   "metadata": {},
   "outputs": [
    {
     "data": {
      "text/plain": [
       "RangeIndex(start=0, stop=4, step=1)"
      ]
     },
     "execution_count": 6,
     "metadata": {},
     "output_type": "execute_result"
    }
   ],
   "source": [
    "df.index"
   ]
  },
  {
   "cell_type": "code",
   "execution_count": 11,
   "id": "9d37461b-b2d8-43ae-b946-530173dfdf99",
   "metadata": {},
   "outputs": [
    {
     "ename": "TypeError",
     "evalue": "Index does not support mutable operations",
     "output_type": "error",
     "traceback": [
      "\u001b[1;31m---------------------------------------------------------------------------\u001b[0m",
      "\u001b[1;31mTypeError\u001b[0m                                 Traceback (most recent call last)",
      "Cell \u001b[1;32mIn[11], line 3\u001b[0m\n\u001b[0;32m      1\u001b[0m \u001b[38;5;66;03m#gives error bcz immutable\u001b[39;00m\n\u001b[0;32m      2\u001b[0m \u001b[38;5;28;01mfor\u001b[39;00m i \u001b[38;5;129;01min\u001b[39;00m \u001b[38;5;28mrange\u001b[39m(\u001b[38;5;28mlen\u001b[39m(df\u001b[38;5;241m.\u001b[39mindex)):\n\u001b[1;32m----> 3\u001b[0m     \u001b[43mdf\u001b[49m\u001b[38;5;241;43m.\u001b[39;49m\u001b[43mindex\u001b[49m\u001b[43m[\u001b[49m\u001b[43mi\u001b[49m\u001b[43m]\u001b[49m\u001b[38;5;241m=\u001b[39m \u001b[38;5;124mf\u001b[39m\u001b[38;5;124m'\u001b[39m\u001b[38;5;124mdeva \u001b[39m\u001b[38;5;132;01m{\u001b[39;00mi\u001b[38;5;132;01m}\u001b[39;00m\u001b[38;5;124m'\u001b[39m\n",
      "File \u001b[1;32mD:\\Softwares\\Lib\\site-packages\\pandas\\core\\indexes\\base.py:5371\u001b[0m, in \u001b[0;36mIndex.__setitem__\u001b[1;34m(self, key, value)\u001b[0m\n\u001b[0;32m   5369\u001b[0m \u001b[38;5;129m@final\u001b[39m\n\u001b[0;32m   5370\u001b[0m \u001b[38;5;28;01mdef\u001b[39;00m \u001b[38;5;21m__setitem__\u001b[39m(\u001b[38;5;28mself\u001b[39m, key, value) \u001b[38;5;241m-\u001b[39m\u001b[38;5;241m>\u001b[39m \u001b[38;5;28;01mNone\u001b[39;00m:\n\u001b[1;32m-> 5371\u001b[0m     \u001b[38;5;28;01mraise\u001b[39;00m \u001b[38;5;167;01mTypeError\u001b[39;00m(\u001b[38;5;124m\"\u001b[39m\u001b[38;5;124mIndex does not support mutable operations\u001b[39m\u001b[38;5;124m\"\u001b[39m)\n",
      "\u001b[1;31mTypeError\u001b[0m: Index does not support mutable operations"
     ]
    }
   ],
   "source": [
    "#gives error bcz immutable\n",
    "for i in range(len(df.index)):\n",
    "    df.index[i]= f'deva {i}'"
   ]
  },
  {
   "cell_type": "code",
   "execution_count": 13,
   "id": "36fb305c-ea1d-4a51-b454-ab588952dedf",
   "metadata": {},
   "outputs": [
    {
     "data": {
      "text/html": [
       "<div>\n",
       "<style scoped>\n",
       "    .dataframe tbody tr th:only-of-type {\n",
       "        vertical-align: middle;\n",
       "    }\n",
       "\n",
       "    .dataframe tbody tr th {\n",
       "        vertical-align: top;\n",
       "    }\n",
       "\n",
       "    .dataframe thead th {\n",
       "        text-align: right;\n",
       "    }\n",
       "</style>\n",
       "<table border=\"1\" class=\"dataframe\">\n",
       "  <thead>\n",
       "    <tr style=\"text-align: right;\">\n",
       "      <th></th>\n",
       "      <th>name</th>\n",
       "      <th>yuga</th>\n",
       "    </tr>\n",
       "  </thead>\n",
       "  <tbody>\n",
       "    <tr>\n",
       "      <th>deva 0</th>\n",
       "      <td>Hari</td>\n",
       "      <td>Sarva</td>\n",
       "    </tr>\n",
       "    <tr>\n",
       "      <th>deva 1</th>\n",
       "      <td>Narayana</td>\n",
       "      <td>Sarva</td>\n",
       "    </tr>\n",
       "    <tr>\n",
       "      <th>deva 2</th>\n",
       "      <td>Vasudeva</td>\n",
       "      <td>Dwapara</td>\n",
       "    </tr>\n",
       "    <tr>\n",
       "      <th>deva 3</th>\n",
       "      <td>Madhava</td>\n",
       "      <td>Dwapara</td>\n",
       "    </tr>\n",
       "  </tbody>\n",
       "</table>\n",
       "</div>"
      ],
      "text/plain": [
       "            name     yuga\n",
       "deva 0      Hari    Sarva\n",
       "deva 1  Narayana    Sarva\n",
       "deva 2  Vasudeva  Dwapara\n",
       "deva 3   Madhava  Dwapara"
      ]
     },
     "execution_count": 13,
     "metadata": {},
     "output_type": "execute_result"
    }
   ],
   "source": [
    "df.index=[f'deva {i}' for i in range(len(df))]\n",
    "df"
   ]
  },
  {
   "cell_type": "code",
   "execution_count": 15,
   "id": "234bb10e-051d-4548-a0ff-e88d16b4e5f6",
   "metadata": {},
   "outputs": [
    {
     "data": {
      "text/html": [
       "<div>\n",
       "<style scoped>\n",
       "    .dataframe tbody tr th:only-of-type {\n",
       "        vertical-align: middle;\n",
       "    }\n",
       "\n",
       "    .dataframe tbody tr th {\n",
       "        vertical-align: top;\n",
       "    }\n",
       "\n",
       "    .dataframe thead th {\n",
       "        text-align: right;\n",
       "    }\n",
       "</style>\n",
       "<table border=\"1\" class=\"dataframe\">\n",
       "  <thead>\n",
       "    <tr style=\"text-align: right;\">\n",
       "      <th></th>\n",
       "      <th>name</th>\n",
       "      <th>yuga</th>\n",
       "    </tr>\n",
       "    <tr>\n",
       "      <th>Devata</th>\n",
       "      <th></th>\n",
       "      <th></th>\n",
       "    </tr>\n",
       "  </thead>\n",
       "  <tbody>\n",
       "    <tr>\n",
       "      <th>deva 0</th>\n",
       "      <td>Hari</td>\n",
       "      <td>Sarva</td>\n",
       "    </tr>\n",
       "    <tr>\n",
       "      <th>deva 1</th>\n",
       "      <td>Narayana</td>\n",
       "      <td>Sarva</td>\n",
       "    </tr>\n",
       "    <tr>\n",
       "      <th>deva 2</th>\n",
       "      <td>Vasudeva</td>\n",
       "      <td>Dwapara</td>\n",
       "    </tr>\n",
       "    <tr>\n",
       "      <th>deva 3</th>\n",
       "      <td>Madhava</td>\n",
       "      <td>Dwapara</td>\n",
       "    </tr>\n",
       "  </tbody>\n",
       "</table>\n",
       "</div>"
      ],
      "text/plain": [
       "            name     yuga\n",
       "Devata                   \n",
       "deva 0      Hari    Sarva\n",
       "deva 1  Narayana    Sarva\n",
       "deva 2  Vasudeva  Dwapara\n",
       "deva 3   Madhava  Dwapara"
      ]
     },
     "execution_count": 15,
     "metadata": {},
     "output_type": "execute_result"
    }
   ],
   "source": [
    "df.index.name='Devata'\n",
    "df"
   ]
  },
  {
   "cell_type": "code",
   "execution_count": 17,
   "id": "9ef1fac9-b053-4633-b677-1420189d8f43",
   "metadata": {},
   "outputs": [
    {
     "data": {
      "text/html": [
       "<div>\n",
       "<style scoped>\n",
       "    .dataframe tbody tr th:only-of-type {\n",
       "        vertical-align: middle;\n",
       "    }\n",
       "\n",
       "    .dataframe tbody tr th {\n",
       "        vertical-align: top;\n",
       "    }\n",
       "\n",
       "    .dataframe thead th {\n",
       "        text-align: right;\n",
       "    }\n",
       "</style>\n",
       "<table border=\"1\" class=\"dataframe\">\n",
       "  <thead>\n",
       "    <tr style=\"text-align: right;\">\n",
       "      <th></th>\n",
       "      <th>yuga</th>\n",
       "    </tr>\n",
       "    <tr>\n",
       "      <th>name</th>\n",
       "      <th></th>\n",
       "    </tr>\n",
       "  </thead>\n",
       "  <tbody>\n",
       "    <tr>\n",
       "      <th>Hari</th>\n",
       "      <td>Sarva</td>\n",
       "    </tr>\n",
       "    <tr>\n",
       "      <th>Narayana</th>\n",
       "      <td>Sarva</td>\n",
       "    </tr>\n",
       "    <tr>\n",
       "      <th>Vasudeva</th>\n",
       "      <td>Dwapara</td>\n",
       "    </tr>\n",
       "    <tr>\n",
       "      <th>Madhava</th>\n",
       "      <td>Dwapara</td>\n",
       "    </tr>\n",
       "  </tbody>\n",
       "</table>\n",
       "</div>"
      ],
      "text/plain": [
       "             yuga\n",
       "name             \n",
       "Hari        Sarva\n",
       "Narayana    Sarva\n",
       "Vasudeva  Dwapara\n",
       "Madhava   Dwapara"
      ]
     },
     "execution_count": 17,
     "metadata": {},
     "output_type": "execute_result"
    }
   ],
   "source": [
    "df=df.set_index('name')\n",
    "df"
   ]
  },
  {
   "cell_type": "code",
   "execution_count": 19,
   "id": "bdb164c2-bed7-4e0c-8e3a-d14dae9a8301",
   "metadata": {},
   "outputs": [
    {
     "data": {
      "text/html": [
       "<div>\n",
       "<style scoped>\n",
       "    .dataframe tbody tr th:only-of-type {\n",
       "        vertical-align: middle;\n",
       "    }\n",
       "\n",
       "    .dataframe tbody tr th {\n",
       "        vertical-align: top;\n",
       "    }\n",
       "\n",
       "    .dataframe thead th {\n",
       "        text-align: right;\n",
       "    }\n",
       "</style>\n",
       "<table border=\"1\" class=\"dataframe\">\n",
       "  <thead>\n",
       "    <tr style=\"text-align: right;\">\n",
       "      <th></th>\n",
       "      <th>name</th>\n",
       "      <th>yuga</th>\n",
       "    </tr>\n",
       "  </thead>\n",
       "  <tbody>\n",
       "    <tr>\n",
       "      <th>0</th>\n",
       "      <td>Hari</td>\n",
       "      <td>Sarva</td>\n",
       "    </tr>\n",
       "    <tr>\n",
       "      <th>1</th>\n",
       "      <td>Narayana</td>\n",
       "      <td>Sarva</td>\n",
       "    </tr>\n",
       "    <tr>\n",
       "      <th>2</th>\n",
       "      <td>Vasudeva</td>\n",
       "      <td>Dwapara</td>\n",
       "    </tr>\n",
       "    <tr>\n",
       "      <th>3</th>\n",
       "      <td>Madhava</td>\n",
       "      <td>Dwapara</td>\n",
       "    </tr>\n",
       "  </tbody>\n",
       "</table>\n",
       "</div>"
      ],
      "text/plain": [
       "       name     yuga\n",
       "0      Hari    Sarva\n",
       "1  Narayana    Sarva\n",
       "2  Vasudeva  Dwapara\n",
       "3   Madhava  Dwapara"
      ]
     },
     "execution_count": 19,
     "metadata": {},
     "output_type": "execute_result"
    }
   ],
   "source": [
    "df=df.reset_index()\n",
    "df"
   ]
  },
  {
   "cell_type": "code",
   "execution_count": 21,
   "id": "0453c007-391d-48a2-9c9e-186d3c0df3e3",
   "metadata": {},
   "outputs": [
    {
     "data": {
      "text/html": [
       "<div>\n",
       "<style scoped>\n",
       "    .dataframe tbody tr th:only-of-type {\n",
       "        vertical-align: middle;\n",
       "    }\n",
       "\n",
       "    .dataframe tbody tr th {\n",
       "        vertical-align: top;\n",
       "    }\n",
       "\n",
       "    .dataframe thead th {\n",
       "        text-align: right;\n",
       "    }\n",
       "</style>\n",
       "<table border=\"1\" class=\"dataframe\">\n",
       "  <thead>\n",
       "    <tr style=\"text-align: right;\">\n",
       "      <th></th>\n",
       "      <th>name</th>\n",
       "      <th>yuga</th>\n",
       "    </tr>\n",
       "    <tr>\n",
       "      <th>index_num</th>\n",
       "      <th></th>\n",
       "      <th></th>\n",
       "    </tr>\n",
       "  </thead>\n",
       "  <tbody>\n",
       "    <tr>\n",
       "      <th>0</th>\n",
       "      <td>Hari</td>\n",
       "      <td>Sarva</td>\n",
       "    </tr>\n",
       "    <tr>\n",
       "      <th>1</th>\n",
       "      <td>Narayana</td>\n",
       "      <td>Sarva</td>\n",
       "    </tr>\n",
       "    <tr>\n",
       "      <th>2</th>\n",
       "      <td>Vasudeva</td>\n",
       "      <td>Dwapara</td>\n",
       "    </tr>\n",
       "    <tr>\n",
       "      <th>3</th>\n",
       "      <td>Madhava</td>\n",
       "      <td>Dwapara</td>\n",
       "    </tr>\n",
       "  </tbody>\n",
       "</table>\n",
       "</div>"
      ],
      "text/plain": [
       "               name     yuga\n",
       "index_num                   \n",
       "0              Hari    Sarva\n",
       "1          Narayana    Sarva\n",
       "2          Vasudeva  Dwapara\n",
       "3           Madhava  Dwapara"
      ]
     },
     "execution_count": 21,
     "metadata": {},
     "output_type": "execute_result"
    }
   ],
   "source": [
    "df.index.name='index_num'\n",
    "df"
   ]
  },
  {
   "cell_type": "code",
   "execution_count": 23,
   "id": "053e9b5e-f5e6-4a78-9c5c-cd1f229d8a9d",
   "metadata": {},
   "outputs": [
    {
     "data": {
      "text/html": [
       "<div>\n",
       "<style scoped>\n",
       "    .dataframe tbody tr th:only-of-type {\n",
       "        vertical-align: middle;\n",
       "    }\n",
       "\n",
       "    .dataframe tbody tr th {\n",
       "        vertical-align: top;\n",
       "    }\n",
       "\n",
       "    .dataframe thead th {\n",
       "        text-align: right;\n",
       "    }\n",
       "</style>\n",
       "<table border=\"1\" class=\"dataframe\">\n",
       "  <thead>\n",
       "    <tr style=\"text-align: right;\">\n",
       "      <th></th>\n",
       "      <th>index_num</th>\n",
       "      <th>yuga</th>\n",
       "    </tr>\n",
       "    <tr>\n",
       "      <th>name</th>\n",
       "      <th></th>\n",
       "      <th></th>\n",
       "    </tr>\n",
       "  </thead>\n",
       "  <tbody>\n",
       "    <tr>\n",
       "      <th>Hari</th>\n",
       "      <td>0</td>\n",
       "      <td>Sarva</td>\n",
       "    </tr>\n",
       "    <tr>\n",
       "      <th>Narayana</th>\n",
       "      <td>1</td>\n",
       "      <td>Sarva</td>\n",
       "    </tr>\n",
       "    <tr>\n",
       "      <th>Vasudeva</th>\n",
       "      <td>2</td>\n",
       "      <td>Dwapara</td>\n",
       "    </tr>\n",
       "    <tr>\n",
       "      <th>Madhava</th>\n",
       "      <td>3</td>\n",
       "      <td>Dwapara</td>\n",
       "    </tr>\n",
       "  </tbody>\n",
       "</table>\n",
       "</div>"
      ],
      "text/plain": [
       "          index_num     yuga\n",
       "name                        \n",
       "Hari              0    Sarva\n",
       "Narayana          1    Sarva\n",
       "Vasudeva          2  Dwapara\n",
       "Madhava           3  Dwapara"
      ]
     },
     "execution_count": 23,
     "metadata": {},
     "output_type": "execute_result"
    }
   ],
   "source": [
    "df=df.reset_index().set_index('name')\n",
    "df"
   ]
  },
  {
   "cell_type": "code",
   "execution_count": 33,
   "id": "1a004e7f-189e-464d-88f3-d780c235353e",
   "metadata": {},
   "outputs": [],
   "source": [
    "df.rename(columns={'index_num':'new'},inplace=True)"
   ]
  },
  {
   "cell_type": "code",
   "execution_count": 35,
   "id": "a36f8a49-e14a-4f6f-bc30-5a5c58904b1c",
   "metadata": {},
   "outputs": [
    {
     "data": {
      "text/html": [
       "<div>\n",
       "<style scoped>\n",
       "    .dataframe tbody tr th:only-of-type {\n",
       "        vertical-align: middle;\n",
       "    }\n",
       "\n",
       "    .dataframe tbody tr th {\n",
       "        vertical-align: top;\n",
       "    }\n",
       "\n",
       "    .dataframe thead th {\n",
       "        text-align: right;\n",
       "    }\n",
       "</style>\n",
       "<table border=\"1\" class=\"dataframe\">\n",
       "  <thead>\n",
       "    <tr style=\"text-align: right;\">\n",
       "      <th></th>\n",
       "      <th>new</th>\n",
       "      <th>yuga</th>\n",
       "    </tr>\n",
       "    <tr>\n",
       "      <th>name</th>\n",
       "      <th></th>\n",
       "      <th></th>\n",
       "    </tr>\n",
       "  </thead>\n",
       "  <tbody>\n",
       "    <tr>\n",
       "      <th>Hari</th>\n",
       "      <td>0</td>\n",
       "      <td>Sarva</td>\n",
       "    </tr>\n",
       "    <tr>\n",
       "      <th>Narayana</th>\n",
       "      <td>1</td>\n",
       "      <td>Sarva</td>\n",
       "    </tr>\n",
       "    <tr>\n",
       "      <th>Vasudeva</th>\n",
       "      <td>2</td>\n",
       "      <td>Dwapara</td>\n",
       "    </tr>\n",
       "    <tr>\n",
       "      <th>Madhava</th>\n",
       "      <td>3</td>\n",
       "      <td>Dwapara</td>\n",
       "    </tr>\n",
       "  </tbody>\n",
       "</table>\n",
       "</div>"
      ],
      "text/plain": [
       "          new     yuga\n",
       "name                  \n",
       "Hari        0    Sarva\n",
       "Narayana    1    Sarva\n",
       "Vasudeva    2  Dwapara\n",
       "Madhava     3  Dwapara"
      ]
     },
     "execution_count": 35,
     "metadata": {},
     "output_type": "execute_result"
    }
   ],
   "source": [
    "df"
   ]
  },
  {
   "cell_type": "code",
   "execution_count": null,
   "id": "9de1dbb9-191a-4352-8250-018baf91a85c",
   "metadata": {},
   "outputs": [],
   "source": []
  }
 ],
 "metadata": {
  "kernelspec": {
   "display_name": "Python 3 (ipykernel)",
   "language": "python",
   "name": "python3"
  },
  "language_info": {
   "codemirror_mode": {
    "name": "ipython",
    "version": 3
   },
   "file_extension": ".py",
   "mimetype": "text/x-python",
   "name": "python",
   "nbconvert_exporter": "python",
   "pygments_lexer": "ipython3",
   "version": "3.12.3"
  }
 },
 "nbformat": 4,
 "nbformat_minor": 5
}
